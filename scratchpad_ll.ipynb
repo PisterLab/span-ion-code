{
 "cells": [
  {
   "cell_type": "code",
   "execution_count": 1,
   "metadata": {},
   "outputs": [],
   "source": [
    "import numpy as np\n",
    "import matplotlib.pyplot as plt\n",
    "from matplotlib import rc, rcParams\n",
    "import scipy as sp\n",
    "from scipy import interpolate, signal\n",
    "import random\n",
    "import pandas as pd\n",
    "import warnings\n",
    "from cycler import cycler\n",
    "from siggen_pulses import *\n",
    "from oneshot import *\n",
    "from radiation import *\n",
    "import matplotlib\n",
    "import csv\n",
    "\n",
    "%matplotlib inline"
   ]
  },
  {
   "cell_type": "code",
   "execution_count": null,
   "metadata": {},
   "outputs": [],
   "source": [
    "# print(plt.rcParams)\n",
    "font = {'family' : 'normal',\n",
    "        'weight' : 'normal',\n",
    "        'size'   : 18}\n",
    "\n",
    "matplotlib.rc('font', **font)\n",
    "params = {'legend.fontsize': 14,\n",
    "          'legend.handlelength': 2}\n",
    "plt.rcParams.update(params)"
   ]
  },
  {
   "cell_type": "code",
   "execution_count": null,
   "metadata": {},
   "outputs": [],
   "source": [
    "# Plotting settings\n",
    "plt.rcParams['font.family'] = 'sans-serif'\n",
    "plt.rcParams['font.sans-serif'] = ['Verdana',\n",
    "                                   'Computer Modern Sans Serif',\n",
    "                                   'DejaVu Sans',\n",
    "                                   'Bitstream Vera Sans',\n",
    "                                   'Lucida Grande',\n",
    "                                   'Geneva',\n",
    "                                   'Lucid',\n",
    "                                   'Arial',\n",
    "                                   'Helvetica',\n",
    "                                   'Avant Garde',\n",
    "                                   'sans-serif']\n",
    "plt.rcParams['font.size'] = 20\n",
    "plt.rcParams['axes.prop_cycle'] = (cycler(color=['r', 'g', 'b', 'y']) + \n",
    "                                   cycler(linestyle=['-', '--', ':', '-.']))\n",
    "# font = {'family': 'sans-serif',\n",
    "#         'fantasy': 'xkcd',\n",
    "# #         'sans-serif': 'arial',\n",
    "#        'weight':'normal',\n",
    "#        'size':20}\n",
    "# rc('font', **font)\n",
    "\n",
    "# matplotlib.rc('xtick', labelsize=20)\n",
    "# matplotlib.rc('ytick', labelsize=20)"
   ]
  },
  {
   "cell_type": "markdown",
   "metadata": {},
   "source": [
    "<h1>ToF Histogram</h1>"
   ]
  },
  {
   "cell_type": "code",
   "execution_count": null,
   "metadata": {},
   "outputs": [],
   "source": [
    "file_name = '../data/tofs.csv'\n",
    "tof_col_name = 'TOF[ns]'\n",
    "mq_names = ['MQ{0}'.format(x) for x in (1,2,4,14,16,18,20,28,29,30,38,39,40)]\n",
    "# data = pd.read_csv(file_name)\n",
    "data_dict = parse_tof_histogram(file_name, tof_col_name, mq_names)"
   ]
  },
  {
   "cell_type": "code",
   "execution_count": null,
   "metadata": {},
   "outputs": [],
   "source": [
    "data = pd.read_csv(file_name)\n",
    "times = list(data[tof_col_name])\n",
    "mq_distrib_dict = {mq:data[mq] for mq in mq_names}"
   ]
  },
  {
   "cell_type": "code",
   "execution_count": null,
   "metadata": {},
   "outputs": [],
   "source": [
    "# Settings\n",
    "ylim = (0, 1.1)\n",
    "xlim = (min(times), 150)\n",
    "figsize = (12, 6)\n",
    "mq_styles = ['r-', 'g.']\n",
    "\n",
    "# Plotting\n",
    "fig, ax = plt.subplots(figsize=figsize)\n",
    "for i, mq in enumerate(mq_names):\n",
    "    # Histograms\n",
    "    mq_value = mq.replace('MQ', '')\n",
    "    mq_label = f'MQ = {mq_value}'\n",
    "    mq_distrib = mq_distrib_dict[mq]\n",
    "    ax.plot(times, mq_distrib, label=mq_label)\n",
    "    \n",
    "    # Annotate peak of histogram with MQ\n",
    "#     mq_annot = mq\n",
    "#     idx_peak = np.argmax(mq_distrib)\n",
    "#     y_peak = max(mq_distrib)\n",
    "#     x_peak = times[idx_peak]\n",
    "#     loc_annot = (x_peak, y_peak*1.05)\n",
    "#     ax.annotate(s=mq_annot, xy=loc_annot)\n",
    "    \n",
    "ax.legend()\n",
    "ax.set_xlabel('Time of Flight [ns]')\n",
    "ax.set_title('Normalized Ion ToF Distributions')\n",
    "ax.grid(True)\n",
    "ax.set_ylim(ylim)\n",
    "ax.set_xlim(xlim);"
   ]
  },
  {
   "cell_type": "markdown",
   "metadata": {},
   "source": [
    "<h1>Radiation</h1>\n",
    "<h2>Stopping Power</h2>"
   ]
  },
  {
   "cell_type": "code",
   "execution_count": null,
   "metadata": {},
   "outputs": [],
   "source": [
    "file_names = ['../data/srim/IONIZ_H3MeV_Si.csv',\n",
    "              '../data/srim/IONIZ_He10MeV_Si.csv',\n",
    "              '../data/srim/IONIZ_Si10MeV_Si.csv',\n",
    "              '../data/srim/IONIZ_H1GeV_Si.csv',\n",
    "              '../data/srim/IONIZ_H10GeV_Si.csv']\n",
    "labels = ['3MeV proton',\n",
    "          '10MeV alpha',\n",
    "          '10MeV Si',\n",
    "          '1GeV proton',\n",
    "          '10GeV proton']\n",
    "figsize = (12, 6)\n",
    "\n",
    "# Plotting\n",
    "fig, ax = plt.subplots(figsize=figsize)\n",
    "\n",
    "# Parse data\n",
    "for idx, fname in enumerate(file_names):\n",
    "    data = pd.read_csv(fname)\n",
    "    depth = list(data['Target Depth']) # Angstroms\n",
    "    i_by_i = list(data['Ionization by Ions']) # eV/(Angstrom-Ion)\n",
    "    i_by_r = list(data['Ionization by Recoils']) # eV/(Angstrom-Ion)\n",
    "    \n",
    "    depth = [int(round(d * 1e-4)) for d in depth] # Microns\n",
    "    i_by_i = [x*1e4/1e3 for x in i_by_i] # keV/(um-ion)\n",
    "    \n",
    "    depth_nozero = []\n",
    "    i_by_i_nozero = []\n",
    "    \n",
    "    for i, ions in enumerate(i_by_i):\n",
    "        if ions > 0:\n",
    "            depth_nozero.append(depth[i])\n",
    "            i_by_i_nozero.append(ions)\n",
    "            \n",
    "    print(f\"{labels[idx]} - {i_by_i_nozero[0]} keV/micron\")\n",
    "        \n",
    "    ax.semilogy(depth_nozero, i_by_i_nozero, label=labels[idx])\n",
    "\n",
    "ax.set_ylabel('Stopping Power [keV/micron]')\n",
    "ax.set_xlabel('Depth [microns]')\n",
    "ax.legend()\n",
    "ax.grid(True)"
   ]
  },
  {
   "cell_type": "code",
   "execution_count": 34,
   "metadata": {},
   "outputs": [],
   "source": [
    "E_particle = 10e6 # eV\n",
    "num_ehp = E_particle/3.6\n",
    "Q_SET = num_ehp * q"
   ]
  },
  {
   "cell_type": "code",
   "execution_count": 35,
   "metadata": {},
   "outputs": [
    {
     "data": {
      "text/plain": [
       "4.4499999999999997e-13"
      ]
     },
     "execution_count": 35,
     "metadata": {},
     "output_type": "execute_result"
    }
   ],
   "source": [
    "Q_SET"
   ]
  },
  {
   "cell_type": "markdown",
   "metadata": {},
   "source": [
    "<h2>Not-Quite-Particle</h2>"
   ]
  },
  {
   "cell_type": "code",
   "execution_count": 2,
   "metadata": {},
   "outputs": [],
   "source": [
    "E_i = 59.5e3\n",
    "theta_vec = np.linspace(-np.pi, np.pi, 100)\n",
    "E_ion = 3.6\n",
    "\n",
    "figsize = (6, 3)"
   ]
  },
  {
   "cell_type": "code",
   "execution_count": 14,
   "metadata": {},
   "outputs": [
    {
     "data": {
      "image/png": "[encoded data removed]",
      "text/plain": [
       "<Figure size 432x216 with 1 Axes>"
      ]
     },
     "metadata": {},
     "output_type": "display_data"
    }
   ],
   "source": [
    "# Calculate Compton scattering for different angles\n",
    "lambda_i = h_eV * c / E_i\n",
    "Q_vec = []\n",
    "for theta in theta_vec:\n",
    "    lambda_f, num_ehp = scatter_compton(lambda_i, theta, E_ion)\n",
    "    Q_vec.append(num_ehp*q)\n",
    "\n",
    "# Plotting\n",
    "fig, ax = plt.subplots(figsize=figsize)\n",
    "\n",
    "ax.plot(theta_vec, Q_vec)\n",
    "ax.set_ylabel('Charge [C]')\n",
    "ax.set_xlabel('Scattering Angle [rad]')\n",
    "ax.set_title('Induced Charge in a Single \\nCompton Scattering Event')\n",
    "ax.grid(True)"
   ]
  },
  {
   "cell_type": "markdown",
   "metadata": {},
   "source": [
    "<h3>X-Ray</h3>"
   ]
  },
  {
   "cell_type": "code",
   "execution_count": 31,
   "metadata": {},
   "outputs": [],
   "source": [
    "lambda_min = 1e-11\n",
    "lambda_max = 1e-8"
   ]
  },
  {
   "cell_type": "code",
   "execution_count": 32,
   "metadata": {},
   "outputs": [
    {
     "name": "stdout",
     "output_type": "stream",
     "text": [
      "124.08 124080.00000000001\n"
     ]
    }
   ],
   "source": [
    "E_max = get_E(lambda_min)\n",
    "E_min = get_E(lambda_max)\n",
    "\n",
    "print(E_min, E_max)"
   ]
  },
  {
   "cell_type": "markdown",
   "metadata": {},
   "source": [
    "<h3>Gamma</h3>"
   ]
  },
  {
   "cell_type": "code",
   "execution_count": 33,
   "metadata": {},
   "outputs": [
    {
     "data": {
      "text/plain": [
       "1240800.0"
      ]
     },
     "execution_count": 33,
     "metadata": {},
     "output_type": "execute_result"
    }
   ],
   "source": [
    "lambda_gamma = 1e-12\n",
    "E_gamma = get_E(lambda_gamma)\n",
    "E_gamma"
   ]
  },
  {
   "cell_type": "code",
   "execution_count": null,
   "metadata": {},
   "outputs": [],
   "source": []
  },
  {
   "cell_type": "markdown",
   "metadata": {},
   "source": [
    "<h1>One-Shot Results Statistics</h1>"
   ]
  },
  {
   "cell_type": "markdown",
   "metadata": {},
   "source": [
    "<h2>Code Sweep</h2>"
   ]
  },
  {
   "cell_type": "code",
   "execution_count": null,
   "metadata": {
    "scrolled": true
   },
   "outputs": [],
   "source": [
    "file_names = ['../data/1p8/data_1nsPulse_randPeriod_R10kC1p_yesReset.csv', \n",
    "              '../data/1p8/data_1nsPulse_randPeriod_R20kC1p_yesReset.csv',\n",
    "              '../data/1p8/data_1nsPulse_randPeriod_R30kC1p_yesReset.csv',\n",
    "              '../data/1p8/data_1nsPulse_randPeriod_R40kC1p_yesReset.csv']\n",
    "data_dicts = [parse_pulse(file_name) for file_name in file_names]\n",
    "\n",
    "pulse_widths_specs = [dict(data_dict = data_dict,\n",
    "                          sig_threshold = 0.9,\n",
    "                          posedge = True) for data_dict in data_dicts]\n",
    "pulse_widths_lists = [get_pulse_widths(**pulse_widths_spec) for pulse_widths_spec in pulse_widths_specs]"
   ]
  },
  {
   "cell_type": "code",
   "execution_count": null,
   "metadata": {
    "scrolled": false
   },
   "outputs": [],
   "source": [
    "# Plotting\n",
    "figsize = (20, 10)\n",
    "\n",
    "fig, ax = plt.subplots(figsize=figsize)\n",
    "ax.plot(pulse_widths_lists[0], 'red', label='3')\n",
    "ax.plot(pulse_widths_lists[1], 'green', label='2')\n",
    "ax.plot(pulse_widths_lists[2], 'blue', label='1')\n",
    "ax.plot(pulse_widths_lists[3], 'yellow', label='0')\n",
    "\n",
    "ax.set_xlabel('Pulse Number')\n",
    "ax.set_ylabel('Output Pulse Width (s)')\n",
    "ax.legend()\n",
    "# ax.set_title(f'Mean = {np.average(pulse_width_list)*1e9} ns\\nStdDev = {np.std(pulse_width_list)*1e9} ns')\n",
    "ax.grid(True)"
   ]
  },
  {
   "cell_type": "code",
   "execution_count": null,
   "metadata": {},
   "outputs": [],
   "source": [
    "# Histogram\n",
    "figsize = (20, 5)\n",
    "num_bins = 100\n",
    "\n",
    "fig, ax = plt.subplots(figsize=figsize)\n",
    "# ax.hist(pulse_width_list, bins=100)\n",
    "ax.hist(pulse_widths_lists, bins=num_bins, label=['3', '2', '1', '0'])\n",
    "# ax.hist(pulse_widths_lists[0], color='red', bins=num_bins, alpha=1, label='3')\n",
    "# ax.hist(pulse_widths_lists[1], color='green', bins=num_bins, alpha=1, label='2')\n",
    "# ax.hist(pulse_widths_lists[2], color='blue', bins=num_bins, alpha=1, label='1')\n",
    "# ax.hist(pulse_widths_lists[3], color='black', bins=num_bins, alpha=1, label='0')\n",
    "ax.set_xlabel('Pulse Width (s)')\n",
    "ax.set_ylabel('Count')\n",
    "ax.legend()\n",
    "ax.grid(True)\n",
    "ax.set_title('One-Shot Output Pulse Width Distribution\\nPulse Width = 1ns, Pulse Spacing = [10, 1000]ns, Randomly Sampled')\n",
    "# ax.set_title('Pulse Width = 1ns\\nPulse Spacing = [1, 100]ns, Randomly Sampled')"
   ]
  },
  {
   "cell_type": "markdown",
   "metadata": {},
   "source": [
    "<h2>Monte Carlo</h2>"
   ]
  },
  {
   "cell_type": "code",
   "execution_count": null,
   "metadata": {},
   "outputs": [],
   "source": [
    "file_names = ['../data/1p8/simData_0.csv', \n",
    "              '../data/1p8/simData_1.csv',\n",
    "              '../data/1p8/simData_2.csv',\n",
    "              '../data/1p8/simData_3.csv']\n",
    "pulse_widths_lists = [[]] * 4\n",
    "\n",
    "for code, fname in enumerate(file_names):    \n",
    "    with open(fname) as csvfile:\n",
    "        spamreader = csv.reader(csvfile)\n",
    "        for row in spamreader:\n",
    "            row_flt = [float(x) for x in row]\n",
    "            pulse_widths_lists[code] = pulse_widths_lists[code] + row_flt"
   ]
  },
  {
   "cell_type": "code",
   "execution_count": null,
   "metadata": {},
   "outputs": [],
   "source": []
  },
  {
   "cell_type": "code",
   "execution_count": null,
   "metadata": {},
   "outputs": [],
   "source": [
    "# Histogram\n",
    "figsize = (20, 5)\n",
    "num_bins = 10000\n",
    "\n",
    "fig, ax = plt.subplots(figsize=figsize)\n",
    "# ax.hist(pulse_width_list, bins=100)\n",
    "ax.hist(pulse_widths_lists, bins=num_bins, label=['0', '1', '2', '3'])\n",
    "# ax.hist(pulse_widths_lists[0], color='red', bins=num_bins, alpha=1, label='3')\n",
    "# ax.hist(pulse_widths_lists[1], color='green', bins=num_bins, alpha=1, label='2')\n",
    "# ax.hist(pulse_widths_lists[2], color='blue', bins=num_bins, alpha=1, label='1')\n",
    "# ax.hist(pulse_widths_lists[3], color='black', bins=num_bins, alpha=1, label='0')\n",
    "ax.set_xlabel('Pulse Width (s)')\n",
    "ax.set_ylabel('Count')\n",
    "ax.legend()\n",
    "ax.grid(True)\n",
    "ax.set_title('One-Shot Output Pulse Width Distribution\\nPulse Width = 1ns, Pulse Spacing = [10, 1000]ns, Randomly Sampled')\n",
    "# ax.set_title('Pulse Width = 1ns\\nPulse Spacing = [1, 100]ns, Randomly Sampled')"
   ]
  },
  {
   "cell_type": "markdown",
   "metadata": {},
   "source": [
    "<h1>Folded Cascode</h1>\n",
    "<h2>Checking Bode Plot of Folded Cascode vs. Sim</h2>"
   ]
  },
  {
   "cell_type": "code",
   "execution_count": null,
   "metadata": {},
   "outputs": [],
   "source": [
    "num = np.array([-3.53895594e-004, -4.70738415e+007,  1.50356235e+019,\n",
    "        2.47926605e+030,  1.59517475e+041,  5.75769776e+051,\n",
    "        1.30387570e+062,  1.93756258e+072,  1.91312015e+082,\n",
    "        1.24175010e+092,  5.11668364e+101,  1.24882971e+111,\n",
    "        1.58562663e+120,  8.12989223e+128,  5.24596567e+136])\n",
    "den = np.array([1.00000000e+000, 1.48311234e+011, 9.64486755e+021, 3.62458359e+032,\n",
    "       8.73205029e+042, 1.41372736e+053, 1.56752525e+063, 1.18986463e+073,\n",
    "       6.07158733e+082, 2.00068022e+092, 3.95710939e+101, 4.14370181e+110,\n",
    "       1.90680507e+119, 2.22072378e+127, 7.55724493e+134])\n",
    "\n",
    "s1 = signal.lti(num, den)\n",
    "w, mag, phase = s1.bode()"
   ]
  },
  {
   "cell_type": "code",
   "execution_count": null,
   "metadata": {},
   "outputs": [],
   "source": [
    "plt.figure()\n",
    "plt.semilogx(w, mag, 'r')\n",
    "plt.semilogx(w, phase, 'b')\n",
    "plt.grid(True)"
   ]
  },
  {
   "cell_type": "code",
   "execution_count": null,
   "metadata": {},
   "outputs": [],
   "source": [
    "print(mag[69])\n",
    "print(phase[69])"
   ]
  },
  {
   "cell_type": "markdown",
   "metadata": {},
   "source": [
    "<h1>Delay</h1>\n",
    "<h2>Sallen Key Calculations</h2>"
   ]
  },
  {
   "cell_type": "code",
   "execution_count": null,
   "metadata": {},
   "outputs": [],
   "source": [
    "tdelay = 2e-9\n",
    "C1 = 50e-15\n",
    "C2 = 30e-15\n",
    "\n",
    "#############\n",
    "\n",
    "omega_0 = 1/tdelay\n",
    "k1 = 1/(3 * omega_0**2 * C1 * C2)\n",
    "k2 = 3*omega_0 * C1 * k1\n",
    "\n",
    "# x(k2 - x) = k1 -> x^2 - k2x + k1 = 0\n",
    "sqrt_term = k2**2 - 4*k1\n",
    "print(sqrt_term)\n",
    "\n",
    "R1_plus = (k2 + np.sqrt(sqrt_term))/2\n",
    "R1_minus = (k2 - np.sqrt(sqrt_term))/2\n",
    "\n",
    "R2_plus = k2 - R1_plus\n",
    "R2_minus = k2 - R1_minus"
   ]
  },
  {
   "cell_type": "code",
   "execution_count": null,
   "metadata": {},
   "outputs": [],
   "source": [
    "print(R1_plus, R1_minus)\n",
    "print(R2_plus, R2_minus)"
   ]
  },
  {
   "cell_type": "code",
   "execution_count": null,
   "metadata": {},
   "outputs": [],
   "source": [
    "R1_plus+R2_plus"
   ]
  },
  {
   "cell_type": "code",
   "execution_count": null,
   "metadata": {},
   "outputs": [],
   "source": [
    "k2"
   ]
  },
  {
   "cell_type": "markdown",
   "metadata": {},
   "source": [
    "<h1>Peak Detector + Attenuator</h1>\n",
    "<h2>Error Plot</h2>"
   ]
  },
  {
   "cell_type": "code",
   "execution_count": null,
   "metadata": {},
   "outputs": [],
   "source": [
    "file_name = '../data/peakDetector_attenuator_error.csv'\n",
    "data = pd.read_csv(file_name)\n",
    "code_vec = list(data['code'])\n",
    "data_n85 = list(data['-85'])\n",
    "data_27 = list(data['27'])\n",
    "data_125 = list(data['125'])\n",
    "\n",
    "figsize = (20, 10)\n",
    "fig, ax = plt.subplots(figsize=figsize)\n",
    "\n",
    "ax.semilogy(code_vec, data_n85, 'r-o', label='-85')\n",
    "ax.semilogy(code_vec, data_27, 'g-*', label='27')\n",
    "ax.semilogy(code_vec, data_125, 'b--', label='125')\n",
    "ax.legend()\n",
    "ax.grid(True)\n",
    "ax.set_title('Peak Detector + Attenuator Output Error\\nVstep=229.86mV')\n",
    "ax.set_xlabel('Digital Code')\n",
    "ax.set_ylabel('Error (mV)')"
   ]
  },
  {
   "cell_type": "code",
   "execution_count": null,
   "metadata": {},
   "outputs": [],
   "source": []
  },
  {
   "cell_type": "code",
   "execution_count": null,
   "metadata": {},
   "outputs": [],
   "source": []
  }
 ],
 "metadata": {
  "kernelspec": {
   "display_name": "Python 3",
   "language": "python",
   "name": "python3"
  },
  "language_info": {
   "codemirror_mode": {
    "name": "ipython",
    "version": 3
   },
   "file_extension": ".py",
   "mimetype": "text/x-python",
   "name": "python",
   "nbconvert_exporter": "python",
   "pygments_lexer": "ipython3",
   "version": "3.6.5"
  }
 },
 "nbformat": 4,
 "nbformat_minor": 2
}
