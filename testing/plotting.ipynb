{
 "cells": [
  {
   "cell_type": "code",
   "execution_count": 66,
   "metadata": {},
   "outputs": [],
   "source": [
    "%matplotlib inline\n",
    "import numpy as np\n",
    "from scipy import stats\n",
    "from scipy.optimize import curve_fit\n",
    "import matplotlib.pyplot as plt\n",
    "from pprint import pprint\n",
    "import pandas as pd\n",
    "import yaml, os\n",
    "import cv2 as cv\n",
    "\n",
    "from os import listdir\n",
    "from os.path import isfile, join\n",
    "\n",
    "import dac\n",
    "from plotting import dict_format"
   ]
  },
  {
   "cell_type": "code",
   "execution_count": 2,
   "metadata": {},
   "outputs": [],
   "source": [
    "plt.rcParams['figure.figsize'] = (6,6)\n",
    "plt.rcParams.update({'font.size': 12})"
   ]
  },
  {
   "cell_type": "markdown",
   "metadata": {},
   "source": [
    "<h1>Bandgap</h1>"
   ]
  },
  {
   "cell_type": "code",
   "execution_count": null,
   "metadata": {},
   "outputs": [],
   "source": [
    "fname = '../../data/testing/20220223_132341_bandgap_10800x.csv'\n",
    "\n",
    "# Reading by rows\n",
    "df = pd.read_csv(fname, header=None).set_index(0).T"
   ]
  },
  {
   "cell_type": "code",
   "execution_count": null,
   "metadata": {},
   "outputs": [],
   "source": [
    "teensy_vec = np.array(df['Teensy Internal Temp'])\n",
    "temp_vec = np.array(df['TMP102'])\n",
    "chamber_vec = np.array(df['Chamber'])\n",
    "vbg_vec = np.array(df['Bandgap (V)'])"
   ]
  },
  {
   "cell_type": "code",
   "execution_count": null,
   "metadata": {},
   "outputs": [],
   "source": [
    "### Bandgap voltage plotting\n",
    "# plt.scatter(teensy_vec, vbg_vec, alpha=0.5, label='Teensy Internal')\n",
    "# plt.scatter(chamber_vec, vbg_vec, alpha=0.5, label='Chamber Readout')\n",
    "plt.scatter(chamber_vec, vbg_vec, label='Chamber Readout')\n",
    "# plt.scatter(temp_vec, vbg_vec, alpha=0.5, label='TMP102')\n",
    "\n",
    "# plt.legend()\n",
    "plt.grid(True)\n",
    "plt.ylabel('Bandgap Voltage (V)');\n",
    "plt.xlabel('Temperature (C)');\n",
    "\n",
    "print(f'Bandgap Voltage Range: {max(vbg_vec)-min(vbg_vec)}')\n",
    "\n",
    "idx_roomtemp = np.argwhere(np.diff(np.sign(chamber_vec-27))).flatten()\n",
    "vout_roomtemp = vbg_vec[idx_roomtemp][0]\n",
    "plt.figure()\n",
    "plt.plot(chamber_vec, (vbg_vec-vout_roomtemp)/vout_roomtemp*100)\n",
    "plt.xlabel('Temperature (C)')\n",
    "plt.ylabel('Voltage % Variation\\n(vs. Room Temp)')\n",
    "plt.grid(True)"
   ]
  },
  {
   "cell_type": "code",
   "execution_count": null,
   "metadata": {},
   "outputs": [],
   "source": []
  },
  {
   "cell_type": "code",
   "execution_count": null,
   "metadata": {
    "scrolled": false
   },
   "outputs": [],
   "source": [
    "vbg_hist, vbg_bins_raw = np.histogram(vbg_vec, bins=100)\n",
    "vbg_bins = 0.5*(vbg_bins_raw[1:] + vbg_bins_raw[:-1])\n",
    "plt.plot(vbg_bins, vbg_hist)\n",
    "plt.xlabel('Bandgap Voltage (V)')\n",
    "plt.ylabel('Count')\n",
    "plt.grid(True)"
   ]
  },
  {
   "cell_type": "code",
   "execution_count": null,
   "metadata": {},
   "outputs": [],
   "source": [
    "### Temp Comparison Plotting\n",
    "# Histogram\n",
    "n_bins = 100\n",
    "\n",
    "teensy_hist, teensy_bins_raw = np.histogram(teensy_vec, bins=n_bins)\n",
    "chamber_hist, chamber_bins_raw = np.histogram(chamber_vec, bins=n_bins)\n",
    "# temp_hist, temp_bins_raw = np.histogram(temp_vec, bins=n_bins)\n",
    "\n",
    "teensy_bins = 0.5*(teensy_bins_raw[1:] + teensy_bins_raw[:-1])\n",
    "chamber_bins = 0.5*(chamber_bins_raw[1:] + chamber_bins_raw[:-1])\n",
    "# temp_bins = 0.5*(temp_bins_raw[1:] + temp_binw_raw[:-1])\n",
    "\n",
    "plt.plot(teensy_bins, teensy_hist, label='Teensy Internal')\n",
    "plt.plot(chamber_bins, chamber_hist, label='Chamber Readout')\n",
    "# plt.plot(temp_bins, temp_hist, label='TMP102')\n",
    "\n",
    "plt.legend()\n",
    "plt.grid(True)\n",
    "plt.xlabel('Temperature (C)')\n",
    "plt.ylabel('Count')"
   ]
  },
  {
   "cell_type": "code",
   "execution_count": null,
   "metadata": {},
   "outputs": [],
   "source": [
    "# Temp Differences\n",
    "plt.plot(teensy_vec, label='Teensy Internal')\n",
    "plt.plot(chamber_vec, label='Chamber Readout')\n",
    "# plt.plot(temp_vec, label='TMP102')\n",
    "plt.xlabel('Sample')\n",
    "plt.ylabel('Temperature (C)')\n",
    "plt.legend()\n",
    "plt.grid(True)\n",
    "\n",
    "plt.figure()\n",
    "plt.plot(teensy_vec-chamber_vec, label='Teensy Internal - Chamber Readout')\n",
    "plt.xlabel('Sample')\n",
    "plt.ylabel('Teensy-Chamber (C)')\n",
    "plt.grid(True)"
   ]
  },
  {
   "cell_type": "code",
   "execution_count": null,
   "metadata": {},
   "outputs": [],
   "source": [
    "# "
   ]
  },
  {
   "cell_type": "markdown",
   "metadata": {},
   "source": [
    "<h1>Resistive DAC</h1>"
   ]
  },
  {
   "cell_type": "code",
   "execution_count": null,
   "metadata": {},
   "outputs": [],
   "source": [
    "plt.rcParams['figure.figsize'] = (6,2.5)\n",
    "plt.rcParams.update({'font.size': 12})"
   ]
  },
  {
   "cell_type": "markdown",
   "metadata": {},
   "source": [
    "<h2>INL/DNL</h2>"
   ]
  },
  {
   "cell_type": "code",
   "execution_count": null,
   "metadata": {
    "scrolled": false
   },
   "outputs": [],
   "source": [
    "# fname = '../../data/testing/20220225_135703_dac0_1000x.csv'\n",
    "fname = '../../data/testing/20220225_151239_dac1_1000x.csv'\n",
    "num_iter = 1000\n",
    "\n",
    "# Reading by rows\n",
    "df = pd.read_csv(fname, header=None, names=['Code']+[f'Iteration {x}' for x in range(1,num_iter+1)])\n",
    "\n",
    "code_data_dict = dict()\n",
    "for row in df.itertuples(index=False):\n",
    "    code = 255-int(row[0]) # Backwards codes, whoops...\n",
    "    data = row[1:]\n",
    "    code_data_dict[code] = data"
   ]
  },
  {
   "cell_type": "code",
   "execution_count": null,
   "metadata": {},
   "outputs": [],
   "source": [
    "code_max = max(code_data_dict.keys())\n",
    "code_min = min(code_data_dict.keys())\n",
    "print(f'Range: {np.mean(code_data_dict[code_min])}, {np.mean(code_data_dict[code_max])}')"
   ]
  },
  {
   "cell_type": "code",
   "execution_count": null,
   "metadata": {},
   "outputs": [],
   "source": [
    "code_vec = code_data_dict.keys()\n",
    "avg_vec = [np.mean(code_data_dict[code]) for code in code_vec]\n",
    "gain = dac.calc_gain(code_data_dict)\n",
    "vfsr = dac.calc_fsr(code_data_dict)\n",
    "\n",
    "plt.plot(code_vec, avg_vec)\n",
    "plt.xlabel('Code')\n",
    "plt.ylabel('DAC Voltage (V)')\n",
    "plt.grid(True)\n",
    "plt.title(f'VFSR: {round(vfsr*1e3, 2)} mV\\nGain: {round(gain*1e3, 2)} mV/LSB');\n",
    "# plt.annotate(f'FSR: {vfsr}V\\nGain: {gain}V/LSB', (0,0))"
   ]
  },
  {
   "cell_type": "code",
   "execution_count": null,
   "metadata": {},
   "outputs": [],
   "source": [
    "# Plotting DNL and INL\n",
    "dnl_dict = dac.calc_dnl(code_data_dict)\n",
    "code_vec, dnl_vec = dict_format(dnl_dict)\n",
    "plt.plot(code_vec, dnl_vec)\n",
    "plt.xlabel('Code')\n",
    "plt.ylabel('DNL')\n",
    "plt.grid(True)\n",
    "plt.title(f'Min/Max DNL: {round(min(dnl_vec), 2)}/{round(max(dnl_vec), 2)}');\n",
    "# plt.axhline(y=-1, color='r', linestyle='-')\n",
    "# plt.axhline(y=1, color='r', linestyle='-')\n",
    "\n",
    "plt.figure()\n",
    "inl_dict = dac.calc_inl(code_data_dict)\n",
    "code_vec, inl_vec = dict_format(inl_dict)\n",
    "plt.plot(code_vec, inl_vec)\n",
    "plt.xlabel('Code')\n",
    "plt.ylabel('INL')\n",
    "plt.grid(True)\n",
    "plt.title(f'Min/Max INL: {round(min(inl_vec), 2)}/{round(max(inl_vec), 2)}');"
   ]
  },
  {
   "cell_type": "code",
   "execution_count": null,
   "metadata": {},
   "outputs": [],
   "source": [
    "code_noise_dict = dac.calc_noise(code_data_dict)\n",
    "code_vec, noise_vec = dict_format(code_noise_dict)\n",
    "plt.plot(code_vec, [1e3*x for x in noise_vec])\n",
    "plt.xlabel('Code')\n",
    "plt.ylabel('RMS Noise (mV)')\n",
    "plt.grid(True)\n",
    "plt.title(f'Max RMS Noise: {round(max(noise_vec)*1e3, 2)} mV')"
   ]
  },
  {
   "cell_type": "markdown",
   "metadata": {},
   "source": [
    "<h1>Peak Detector</h1>"
   ]
  },
  {
   "cell_type": "code",
   "execution_count": null,
   "metadata": {},
   "outputs": [],
   "source": [
    "file_in = '../../data/testing/20220303_181854_pk_200x.yaml'\n",
    "with open(file_in, 'r') as f:\n",
    "    data_dict = yaml.load(f, Loader=yaml.FullLoader)"
   ]
  },
  {
   "cell_type": "code",
   "execution_count": null,
   "metadata": {},
   "outputs": [],
   "source": [
    "plt.rcParams['figure.figsize'] = (4,3)\n",
    "plt.rcParams.update({'font.size': 12})"
   ]
  },
  {
   "cell_type": "code",
   "execution_count": null,
   "metadata": {},
   "outputs": [],
   "source": [
    "vin_ideal_vec = data_dict['ideal']\n",
    "vin_real_vec = data_dict['real']\n",
    "vout_raw = data_dict['output']\n",
    "vout_avg_vec = [np.mean(vout_vec) for vout_vec in vout_raw]\n",
    "vout_std_vec = [np.std(vout_vec) for vout_vec in vout_raw]\n",
    "vout_avg_err_vec = np.array([vout_avg_vec[i]-vin_real_vec[i] for i,_ in enumerate(vin_real_vec)])"
   ]
  },
  {
   "cell_type": "code",
   "execution_count": null,
   "metadata": {},
   "outputs": [],
   "source": [
    "plt.plot(vin_real_vec, vout_avg_vec, label='Data')\n",
    "plt.plot(vin_real_vec, vin_real_vec, label='Ideal')\n",
    "plt.grid(True)\n",
    "plt.legend()\n",
    "plt.xlabel('Input Voltage (V)');\n",
    "plt.ylabel('Peak Detector Output (V)');\n",
    "\n",
    "plt.figure()\n",
    "plt.plot(vin_real_vec, vout_avg_err_vec*1e3)\n",
    "plt.grid(True)\n",
    "plt.xlabel('Input Voltage (V)');\n",
    "plt.ylabel('Error Voltage (mV)');\n",
    "\n",
    "plt.figure()\n",
    "plt.plot(vin_real_vec, vout_std_vec)\n",
    "plt.grid(True)\n",
    "plt.xlabel('Input Voltage (V)');\n",
    "plt.ylabel('Peak Detector Output $\\sigma$ (Vrms)');"
   ]
  },
  {
   "cell_type": "code",
   "execution_count": null,
   "metadata": {},
   "outputs": [],
   "source": [
    "# Looking at conditions with worst standard deviations\n",
    "idx_max_std_vec = np.argsort(vout_std_vec)[::-1]\n",
    "\n",
    "for i in range(6):\n",
    "    idx_std = idx_max_std_vec[i]\n",
    "    vin = vin_real_vec[idx_std]\n",
    "    vout_data = vout_raw[idx_std]\n",
    "    vout_std = vout_std_vec[idx_std]\n",
    "    \n",
    "    plt.figure()\n",
    "    plt.plot(vout_data, color='orange')\n",
    "    plt.xlabel('Sample');\n",
    "    plt.ylabel('Measured Output Voltage (V)');\n",
    "    plt.title(f'Input Voltage: {vin} V\\n$\\sigma$={vout_std} Vrms');\n",
    "    plt.grid(True)"
   ]
  },
  {
   "cell_type": "markdown",
   "metadata": {},
   "source": [
    "<h1>Chip Image Stitching</h1>"
   ]
  },
  {
   "cell_type": "code",
   "execution_count": null,
   "metadata": {},
   "outputs": [],
   "source": [
    "start_path = '../../../presentations/20220315_figs/'\n",
    "num_col_map = {0 : 5,\n",
    "              1 : 4,\n",
    "              2 : 6,\n",
    "              3 : 8,\n",
    "              4 : 5}"
   ]
  },
  {
   "cell_type": "code",
   "execution_count": null,
   "metadata": {},
   "outputs": [],
   "source": [
    "for row in num_col_map.keys():\n",
    "    output_file = f'{start_path}result_r{row}.jpg'\n",
    "    img_names = [f'r{row}c{col}.jpg' for col in range(num_col_map[row])]\n",
    "    \n",
    "    print(f'Row {row}...')\n",
    "    \n",
    "    img_lst = []\n",
    "    height = np.inf\n",
    "    for img_name in img_names:\n",
    "        img = cv.imread(cv.samples.findFile(f'{start_path}{img_name}'))\n",
    "        if img is None:\n",
    "            print(f\"Can't find {img_name}\")\n",
    "            continue\n",
    "        img_lst.append(img)\n",
    "        height = min(height, img.shape[0])\n",
    "\n",
    "    stitcher = cv.Stitcher.create(cv.Stitcher_PANORAMA)\n",
    "    status, pano = stitcher.stitch(img_lst)\n",
    "\n",
    "    if status != cv.Stitcher_OK:\n",
    "        print(f\"Can't stitch: {status}\")\n",
    "        \n",
    "    pano_height = pano.shape[0]\n",
    "    pano_width = pano.shape[1]\n",
    "    pano_cropped = pano[pano_height-height+75:height-75, :]\n",
    "    \n",
    "    cv.imwrite(output_file, pano_cropped)"
   ]
  },
  {
   "cell_type": "code",
   "execution_count": null,
   "metadata": {},
   "outputs": [],
   "source": [
    "img_names = [f'result_r{row}' for row in num_col_map.keys()]\n",
    "img_lst = []\n",
    "for img_name in img_names:\n",
    "    print(img_name)\n",
    "    img = cv.imread(cv.samples.findFile(f'{start_path}{img_name}.jpg'))\n",
    "    if img is None:\n",
    "        print(f\"Can't find {img_name}\")\n",
    "        continue\n",
    "    img_rot = cv.rotate(img, cv.ROTATE_90_COUNTERCLOCKWISE)\n",
    "    img_lst.append(img_rot)\n",
    "    cv.imwrite(f'{start_path}rot_{img_name}.jpg', img_rot)\n",
    "    \n",
    "stitcher = cv.Stitcher.create(cv.Stitcher_PANORAMA)\n",
    "status, pano = stitcher.stitch(img_lst)\n",
    "\n",
    "if status != cv.Stitcher_OK:\n",
    "    print(f\"Can't stitch: {status}\")\n",
    "\n",
    "cv.imwrite(f'{start_path}result.jpg', pano)"
   ]
  },
  {
   "cell_type": "markdown",
   "metadata": {},
   "source": [
    "<h1>Small Chain ZCD Fast Testing</h1>"
   ]
  },
  {
   "cell_type": "code",
   "execution_count": 39,
   "metadata": {},
   "outputs": [],
   "source": [
    "data_path = '../../data/testing'\n",
    "\n",
    "# Get all relevant files in directory\n",
    "filt = lambda f: ('zcdSmall' in f) and ('vin' in f) and ('20220404' in f) and ('_17' in f)\n",
    "file_in_vec = [f'{data_path}/{f}' for f in listdir(data_path) if (isfile(join(data_path, f))) and filt(f)]"
   ]
  },
  {
   "cell_type": "code",
   "execution_count": 40,
   "metadata": {
    "scrolled": true
   },
   "outputs": [
    {
     "data": {
      "text/plain": [
       "['../../data/testing/20220404_170445_vin0.7V_500x_zcdSmall.yaml',\n",
       " '../../data/testing/20220404_170552_vin0.75V_500x_zcdSmall.yaml',\n",
       " '../../data/testing/20220404_170701_vin0.8V_500x_zcdSmall.yaml',\n",
       " '../../data/testing/20220404_170808_vin0.85V_500x_zcdSmall.yaml',\n",
       " '../../data/testing/20220404_170916_vin0.9V_500x_zcdSmall.yaml',\n",
       " '../../data/testing/20220404_171024_vin0.95V_500x_zcdSmall.yaml',\n",
       " '../../data/testing/20220404_171132_vin1.0V_500x_zcdSmall.yaml',\n",
       " '../../data/testing/20220404_171240_vin1.05V_500x_zcdSmall.yaml',\n",
       " '../../data/testing/20220404_171348_vin1.1V_500x_zcdSmall.yaml',\n",
       " '../../data/testing/20220404_171455_vin1.15V_500x_zcdSmall.yaml',\n",
       " '../../data/testing/20220404_171604_vin1.2V_500x_zcdSmall.yaml',\n",
       " '../../data/testing/20220404_171711_vin1.25V_500x_zcdSmall.yaml',\n",
       " '../../data/testing/20220404_171820_vin1.3V_500x_zcdSmall.yaml']"
      ]
     },
     "execution_count": 40,
     "metadata": {},
     "output_type": "execute_result"
    }
   ],
   "source": [
    "file_in_vec"
   ]
  },
  {
   "cell_type": "code",
   "execution_count": 41,
   "metadata": {},
   "outputs": [],
   "source": [
    "# Get mean and standard deviation of TDC readings\n",
    "tdiff_avg_dict = dict()\n",
    "tdiff_std_dict = dict()\n",
    "vin_vec = []\n",
    "tdiff_std_vec = []\n",
    "tdiff_avg_vec = []\n",
    "\n",
    "tdiff_worst = 0\n",
    "vin_worst = 0\n",
    "file_worst = ''\n",
    "\n",
    "for fname in file_in_vec:\n",
    "    with open(fname, 'r') as file_in:\n",
    "        # Unsafe loader because of NumPy\n",
    "        data_raw = yaml.load(file_in, Loader=yaml.UnsafeLoader)\n",
    "        \n",
    "        # Plotting raw data for sanity checking\n",
    "        vin_amp = float(data_raw['config']['vin_amp'])\n",
    "        tdiff_vec = data_raw['data'][1:] # [2:]\n",
    "        tdiff_vec = [t/10 for t in tdiff_vec]\n",
    "#         plt.figure()\n",
    "#         plt.plot([t*1e9 for t in tdiff_vec])\n",
    "#         plt.xlabel('Sample')\n",
    "#         plt.ylabel('Time (ns)')\n",
    "#         plt.grid()\n",
    "        \n",
    "        # Getting stats\n",
    "        tdiff_avg = np.mean(tdiff_vec)\n",
    "        tdiff_std = np.std(tdiff_vec)\n",
    "        tdiff_avg_dict[fname] = tdiff_avg\n",
    "        tdiff_std_dict[fname] = tdiff_std\n",
    "        \n",
    "        if (0 not in tdiff_vec) and (vin_amp > 0.7):\n",
    "            if tdiff_std > tdiff_worst:\n",
    "                vin_worst = vin_amp\n",
    "                tdiff_worst = tdiff_std\n",
    "                file_worst = fname\n",
    "            vin_vec.append(vin_amp)\n",
    "            tdiff_std_vec.append(tdiff_std)\n",
    "            tdiff_avg_vec.append(tdiff_avg)"
   ]
  },
  {
   "cell_type": "code",
   "execution_count": 43,
   "metadata": {},
   "outputs": [
    {
     "data": {
      "image/png": "[encoded data removed]",
      "text/plain": [
       "<Figure size 288x432 with 1 Axes>"
      ]
     },
     "metadata": {},
     "output_type": "display_data"
    },
    {
     "data": {
      "image/png": "[encoded data removed]",
      "text/plain": [
       "<Figure size 288x432 with 1 Axes>"
      ]
     },
     "metadata": {},
     "output_type": "display_data"
    }
   ],
   "source": [
    "plt.rcParams['figure.figsize'] = (4,6)\n",
    "plt.rcParams.update({'font.size': 10})\n",
    "\n",
    "# idx_worst = np.argmax(tdiff_std_vec)\n",
    "# vin_worst = vin_vec[idx_worst]\n",
    "# tdiff_std_worst = np.max(tdiff_std_vec)\n",
    "\n",
    "plt.plot(vin_vec, [t*1e12 for t in tdiff_std_vec], 'o')\n",
    "plt.grid(True)\n",
    "plt.xlabel(\"Input Voltage + 0.7 (V)\")\n",
    "plt.ylabel(\"$\\sigma_{timing}$ (ps)\")\n",
    "plt.title(f'Worst-Case Jitter = {round(tdiff_worst*1e12, 2)} ps\\nVin={round(vin_worst, 2)}V\\n{file_worst}')\n",
    "\n",
    "plt.figure()\n",
    "plt.plot(vin_vec, [t*1e9 for t in tdiff_avg_vec], 'o')\n",
    "plt.grid(True)\n",
    "plt.xlabel(\"Input Voltage +0.7 (V)\")\n",
    "plt.ylabel(\"$\\mu_{timing}$ (ns)\")\n",
    "plt.title(f'Walk = {round((max(tdiff_avg_vec)-min(tdiff_avg_vec))*1e12, 2)} ps');"
   ]
  },
  {
   "cell_type": "markdown",
   "metadata": {},
   "source": [
    "<h2>Estimating Bandwidth (First Order)</h2>"
   ]
  },
  {
   "cell_type": "code",
   "execution_count": 130,
   "metadata": {},
   "outputs": [],
   "source": [
    "fatten = 0.1 # Attenuator factor\n",
    "tdelay = 13.37e-9 # Coax delay\n",
    "trise = 100e-12 # Nominal pulse rise time\n",
    "vdac = (1.8/(1<<9)) * (71)\n",
    "\n",
    "tcross_real_cfd = lambda v_in, f_atten, t_rise, t_delay: t_delay + v_in*f_atten/(v_in/t_rise)\n",
    "tcross_real_led = lambda v_in, v_thresh, t_rise: v_thresh/(v_in/t_rise)\n",
    "\n",
    "for vin in vin_vec:\n",
    "    tcross_cfd = tcross_real_cfd(vin, fatten, trise, tdelay)\n",
    "    tcross_led = tcross_real_led(vin, vdac, trise)\n",
    "    tcross_in = max(tcross_cfd, tcross_led)\n",
    "    \n",
    "    \n",
    "\n",
    "# vcross = 0.4\n",
    "# v0 = 0\n",
    "\n",
    "# func_tau = lambda vcross, vin, v0, tcross: -tcross/np.log((vcross-vin)/(v0-vin))\n",
    "# tau_vec = [func_tau(vcross, vin, v0, tdiff_avg_vec[i]) for i,vin in enumerate(vin_vec)]\n",
    "# pprint(tau_vec)\n",
    "\n",
    "# plt.plot(vin_vec, tau_vec, 'o')\n",
    "# plt.grid(True)\n",
    "# plt.xlabel('Input Voltage + 0.7V')\n",
    "# plt.ylabel('First-Order Bandwidth (s)')"
   ]
  },
  {
   "cell_type": "code",
   "execution_count": 135,
   "metadata": {},
   "outputs": [
    {
     "name": "stdout",
     "output_type": "stream",
     "text": [
      "[0.75, 0.8, 0.8500000000000001, 0.9000000000000001, 0.9500000000000002, 1.0000000000000002, 1.0500000000000003, 1.1000000000000003, 1.1500000000000004, 1.2000000000000004, 1.2500000000000004, 1.3000000000000005]\n",
      "[1.0538198327923982e-07, 1.049211319631543e-07, 1.0435747467409628e-07, 1.0418152244161038e-07, 1.039207284188152e-07, 1.0353367183931971e-07, 1.0318523802927354e-07, 1.0285229409599763e-07, 1.0272498529736095e-07, 1.0242971712898494e-07, 1.0219647702023626e-07, 1.0197615416890798e-07]\n"
     ]
    },
    {
     "data": {
      "image/png": "[encoded data removed]",
      "text/plain": [
       "<Figure size 432x288 with 1 Axes>"
      ]
     },
     "metadata": {},
     "output_type": "display_data"
    }
   ],
   "source": [
    "plt.plot(vin_vec, [t*1e9 for t in tdiff_avg_vec], 'o')\n",
    "plt.grid(True)\n",
    "plt.xlabel(\"Input Voltage +0.7 (V)\")\n",
    "plt.ylabel(\"$\\mu_{timing}$ (ns)\")\n",
    "# plt.title(f'Walk = {round((max(tdiff_avg_vec)-min(tdiff_avg_vec))*1e12, 2)} ps');\n",
    "\n",
    "# tdiff_fit_vec = func_tcross(xdata, *popt)\n",
    "# plt.plot(vin_vec, [t*1e9 for t in tdiff_fit_vec])\n",
    "print(vin_vec)\n",
    "print(tdiff_avg_vec)"
   ]
  },
  {
   "cell_type": "markdown",
   "metadata": {},
   "source": [
    "<h2>Jitter</h2>"
   ]
  },
  {
   "cell_type": "code",
   "execution_count": 58,
   "metadata": {},
   "outputs": [],
   "source": [
    "fname = '../../data/testing/20220404_144700_vin0.75V_500x_zcdSmall.yaml'"
   ]
  },
  {
   "cell_type": "code",
   "execution_count": 59,
   "metadata": {},
   "outputs": [
    {
     "data": {
      "text/plain": [
       "<matplotlib.legend.Legend at 0x228e4d9f860>"
      ]
     },
     "execution_count": 59,
     "metadata": {},
     "output_type": "execute_result"
    },
    {
     "data": {
      "image/png": "[encoded data removed]",
      "text/plain": [
       "<Figure size 288x432 with 1 Axes>"
      ]
     },
     "metadata": {},
     "output_type": "display_data"
    },
    {
     "data": {
      "image/png": "[encoded data removed]",
      "text/plain": [
       "<Figure size 288x432 with 1 Axes>"
      ]
     },
     "metadata": {},
     "output_type": "display_data"
    }
   ],
   "source": [
    "### Looking at the raw data\n",
    "with open(fname, 'r') as file_in:\n",
    "    data_raw = yaml.load(file_in, Loader=yaml.UnsafeLoader)\n",
    "    tdiff_vec = data_raw['data']\n",
    "    \n",
    "# Removing the invalid first uninitialized reading\n",
    "tdiff_vec = [t for t in tdiff_vec if t > 0]\n",
    "tdiff_vec = [t*1e9/10 for t in tdiff_vec][1:]\n",
    "\n",
    "# \n",
    "plt.plot(tdiff_vec)\n",
    "plt.xlabel(\"Sample\")\n",
    "plt.ylabel(\"TDC Reading (ns)\")\n",
    "\n",
    "# Plotting the raw data\n",
    "plt.figure()\n",
    "tdiff_std = np.std(tdiff_vec)\n",
    "tdiff_vals, tdiff_bins = np.histogram(tdiff_vec, bins=100)\n",
    "tdiff_bins = 0.5*(tdiff_bins[1:]+tdiff_bins[:-1])\n",
    "plt.plot(tdiff_bins, tdiff_vals, label=f'$\\sigma$={round(tdiff_std*1e3)}ps')\n",
    "curve_area = np.trapz(tdiff_vals, tdiff_bins)\n",
    "\n",
    "# Fitting to normal distribution\n",
    "mu, sigma = stats.norm.fit(tdiff_vec)\n",
    "fit_gaussian = stats.norm.pdf(tdiff_bins, mu, sigma)\n",
    "plt.plot(tdiff_bins, fit_gaussian*curve_area, label=f'$\\sigma$={round(sigma*1e3)}ps')\n",
    "\n",
    "plt.xlabel('Measured Time (ns)')\n",
    "plt.ylabel('Count')\n",
    "plt.xlim(mu-6*sigma, mu+6*sigma)\n",
    "plt.grid(True)\n",
    "plt.legend()"
   ]
  },
  {
   "cell_type": "code",
   "execution_count": 60,
   "metadata": {},
   "outputs": [],
   "source": [
    "fname = '../../data/testing/20220401_164659_1000x_boardJitter.yaml'"
   ]
  },
  {
   "cell_type": "code",
   "execution_count": 63,
   "metadata": {},
   "outputs": [
    {
     "data": {
      "text/plain": [
       "<matplotlib.legend.Legend at 0x228e38a7dd8>"
      ]
     },
     "execution_count": 63,
     "metadata": {},
     "output_type": "execute_result"
    },
    {
     "data": {
      "image/png": "[encoded data removed]",
      "text/plain": [
       "<Figure size 288x432 with 1 Axes>"
      ]
     },
     "metadata": {},
     "output_type": "display_data"
    },
    {
     "data": {
      "image/png": "[encoded data removed]",
      "text/plain": [
       "<Figure size 288x432 with 1 Axes>"
      ]
     },
     "metadata": {},
     "output_type": "display_data"
    }
   ],
   "source": [
    "# Getting the raw data\n",
    "with open(fname, 'r') as file_in:\n",
    "    data_raw = yaml.load(file_in, Loader=yaml.UnsafeLoader)\n",
    "    tdiff_vec = data_raw['data']\n",
    "    \n",
    "# Removing the invalid first uninitialized reading\n",
    "tdiff_vec = [t/10 for t in tdiff_vec if t > 0]\n",
    "\n",
    "# \n",
    "plt.plot(tdiff_vec)\n",
    "\n",
    "# Plotting the raw data\n",
    "plt.figure()\n",
    "tdiff_std = np.std(tdiff_vec)\n",
    "tdiff_vals, tdiff_bins = np.histogram(tdiff_vec, bins=100)\n",
    "tdiff_bins = 0.5*(tdiff_bins[1:]+tdiff_bins[:-1])\n",
    "plt.plot(tdiff_bins, tdiff_vals, label=f'$\\sigma$={round(tdiff_std*1e12)}ps')\n",
    "curve_area = np.trapz(tdiff_vals, tdiff_bins)\n",
    "\n",
    "# Fitting to normal distribution\n",
    "mu, sigma = stats.norm.fit(tdiff_vec)\n",
    "fit_gaussian = stats.norm.pdf(tdiff_bins, mu, sigma)\n",
    "plt.plot(tdiff_bins, fit_gaussian*curve_area, label=f'$\\sigma$={round(sigma*1e12)}ps')\n",
    "\n",
    "plt.xlabel('Measured Time (s)')\n",
    "plt.ylabel('Count')\n",
    "plt.grid(True)\n",
    "plt.legend()"
   ]
  },
  {
   "cell_type": "code",
   "execution_count": null,
   "metadata": {},
   "outputs": [],
   "source": []
  }
 ],
 "metadata": {
  "kernelspec": {
   "display_name": "Python 3",
   "language": "python",
   "name": "python3"
  },
  "language_info": {
   "codemirror_mode": {
    "name": "ipython",
    "version": 3
   },
   "file_extension": ".py",
   "mimetype": "text/x-python",
   "name": "python",
   "nbconvert_exporter": "python",
   "pygments_lexer": "ipython3",
   "version": "3.6.5"
  }
 },
 "nbformat": 4,
 "nbformat_minor": 2
}
